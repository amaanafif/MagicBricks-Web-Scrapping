{
 "cells": [
  {
   "cell_type": "code",
   "execution_count": 1,
   "id": "cd695781",
   "metadata": {},
   "outputs": [],
   "source": [
    "#importing libraries\n",
    "import pandas as pd\n",
    "import requests\n",
    "from bs4 import BeautifulSoup"
   ]
  },
  {
   "cell_type": "code",
   "execution_count": 2,
   "id": "921d10a4",
   "metadata": {},
   "outputs": [],
   "source": [
    "#website url from which scrapping is done\n",
    "url=\"https://www.magicbricks.com/property-for-sale/residential-real-estate?&proptype=Multistorey-Apartment,Builder-Floor-Apartment,Penthouse,Studio-Apartment,Residential-House,Villa&cityName=Kolkata\""
   ]
  },
  {
   "cell_type": "code",
   "execution_count": 3,
   "id": "4a3b6206",
   "metadata": {},
   "outputs": [],
   "source": [
    "#using bs4 to get content from the page\n",
    "page = requests.get(url)"
   ]
  },
  {
   "cell_type": "code",
   "execution_count": 4,
   "id": "b5d5c30e",
   "metadata": {},
   "outputs": [],
   "source": [
    "#extracted html data\n",
    "soup = BeautifulSoup(page.content,'html.parser')"
   ]
  },
  {
   "cell_type": "code",
   "execution_count": 5,
   "id": "637ed156",
   "metadata": {},
   "outputs": [],
   "source": [
    "#price class data extracted\n",
    "price = soup.findAll(attrs={'class':'m-srp-card__price'})"
   ]
  },
  {
   "cell_type": "code",
   "execution_count": 6,
   "id": "2d704745",
   "metadata": {},
   "outputs": [
    {
     "data": {
      "text/plain": [
       "'25.5 Lac'"
      ]
     },
     "execution_count": 6,
     "metadata": {},
     "output_type": "execute_result"
    }
   ],
   "source": [
    "price[0].text"
   ]
  },
  {
   "cell_type": "code",
   "execution_count": 7,
   "id": "9995584a",
   "metadata": {},
   "outputs": [],
   "source": [
    "a=[None]*60"
   ]
  },
  {
   "cell_type": "code",
   "execution_count": 8,
   "id": "f323ed01",
   "metadata": {},
   "outputs": [],
   "source": [
    "l=len(price)"
   ]
  },
  {
   "cell_type": "code",
   "execution_count": 9,
   "id": "748e18a1",
   "metadata": {},
   "outputs": [],
   "source": [
    "a[0]=price[0].text"
   ]
  },
  {
   "cell_type": "code",
   "execution_count": 10,
   "id": "db0369e9",
   "metadata": {},
   "outputs": [],
   "source": [
    "for i in range(0,l,2):\n",
    "    a[i]=price[i].text"
   ]
  },
  {
   "cell_type": "code",
   "execution_count": 11,
   "id": "0d2ea30f",
   "metadata": {},
   "outputs": [],
   "source": [
    "price_new = []\n",
    "for val in a:\n",
    "    if val != None :\n",
    "        price_new.append(val)"
   ]
  },
  {
   "cell_type": "code",
   "execution_count": 12,
   "id": "0c81314a",
   "metadata": {},
   "outputs": [
    {
     "data": {
      "text/plain": [
       "['25.5 Lac',\n",
       " '49.5 Lac',\n",
       " '29 Lac',\n",
       " '41.5 Lac',\n",
       " '29.7 Lac',\n",
       " '36.2 Lac',\n",
       " '23.9 Lac',\n",
       " '69.7 Lac',\n",
       " '40.4 Lac',\n",
       " '26.8 Lac',\n",
       " '63 Lac',\n",
       " '71 Lac',\n",
       " '52.2 Lac',\n",
       " '39.8 Lac',\n",
       " '72.6 Lac',\n",
       " '29 Lac',\n",
       " '26.4 Lac',\n",
       " '61.3 Lac',\n",
       " '21.4 Lac',\n",
       " '1.07 Cr',\n",
       " '70 Lac',\n",
       " '64.2 Lac',\n",
       " '78 Lac',\n",
       " '27.7 Lac',\n",
       " '62 Lac',\n",
       " '48 Lac',\n",
       " '54.8 Lac',\n",
       " '56.9 Lac',\n",
       " '49.7 Lac',\n",
       " '41 Lac']"
      ]
     },
     "execution_count": 12,
     "metadata": {},
     "output_type": "execute_result"
    }
   ],
   "source": [
    "price_new"
   ]
  },
  {
   "cell_type": "code",
   "execution_count": 13,
   "id": "cb643b2b",
   "metadata": {},
   "outputs": [],
   "source": [
    "#bhk class data extracted\n",
    "size = soup.findAll(attrs={'class':'m-srp-card__title__bhk'})"
   ]
  },
  {
   "cell_type": "code",
   "execution_count": 14,
   "id": "2f75a888",
   "metadata": {},
   "outputs": [
    {
     "data": {
      "text/plain": [
       "'\\n\\t\\t\\t\\t            \\t\\t\\n\\t\\t\\t\\t            \\t\\t\\t\\n\\t\\t\\t\\t            \\t\\t\\t\\t2 BHK Flat\\n\\t\\t\\t\\t            \\t\\t\\t\\n\\t\\t\\t\\t            \\t\\t\\t\\n\\t\\t\\t\\t            \\t\\t\\n\\t\\t\\t\\t            \\t'"
      ]
     },
     "execution_count": 14,
     "metadata": {},
     "output_type": "execute_result"
    }
   ],
   "source": [
    "size[0].text"
   ]
  },
  {
   "cell_type": "code",
   "execution_count": 15,
   "id": "dbc2dd3c",
   "metadata": {},
   "outputs": [
    {
     "data": {
      "text/plain": [
       "30"
      ]
     },
     "execution_count": 15,
     "metadata": {},
     "output_type": "execute_result"
    }
   ],
   "source": [
    "l=len(size)\n",
    "l"
   ]
  },
  {
   "cell_type": "code",
   "execution_count": 16,
   "id": "03b477e1",
   "metadata": {},
   "outputs": [],
   "source": [
    "size_new=[None]*l"
   ]
  },
  {
   "cell_type": "code",
   "execution_count": 17,
   "id": "2295e25a",
   "metadata": {},
   "outputs": [],
   "source": [
    "for i in range(0,l):\n",
    "    size_new[i]=size[i].text.replace(\"\\t\",\"\").replace(\"\\n\",\"\").replace(\" \",\"\")"
   ]
  },
  {
   "cell_type": "code",
   "execution_count": 18,
   "id": "ee28b04d",
   "metadata": {},
   "outputs": [
    {
     "data": {
      "text/plain": [
       "['2BHKFlat',\n",
       " '2BHKFlat',\n",
       " '3BHKFlat',\n",
       " '2BHKFlat',\n",
       " '2BHKFlat',\n",
       " '3BHKFlat',\n",
       " '2BHKFlat',\n",
       " '3BHKFlat',\n",
       " '3BHKFlat',\n",
       " '2BHKFlat',\n",
       " '3BHKFlat',\n",
       " '3BHKFlat',\n",
       " '3BHKFlat',\n",
       " '2BHKFlat',\n",
       " '3BHKFlat',\n",
       " '2BHKFlat',\n",
       " '2BHKFlat',\n",
       " '3BHKFlat',\n",
       " '2BHKFlat',\n",
       " '3BHKFlat',\n",
       " '3BHKFlat',\n",
       " '3BHKFlat',\n",
       " '3BHKFlat',\n",
       " '2BHKFlat',\n",
       " '2BHKFlat',\n",
       " '3BHKFlat',\n",
       " '3BHKFlat',\n",
       " '3BHKFlat',\n",
       " '2BHKFlat',\n",
       " '2BHKFlat']"
      ]
     },
     "execution_count": 18,
     "metadata": {},
     "output_type": "execute_result"
    }
   ],
   "source": [
    "size_new"
   ]
  },
  {
   "cell_type": "code",
   "execution_count": 19,
   "id": "63031f83",
   "metadata": {},
   "outputs": [],
   "source": [
    "sqft = soup.findAll(attrs={'class':'m-srp-card__summary__info'})"
   ]
  },
  {
   "cell_type": "code",
   "execution_count": 20,
   "id": "0c94a3b8",
   "metadata": {},
   "outputs": [
    {
     "name": "stdout",
     "output_type": "stream",
     "text": [
      "823 sqft\n",
      "\n",
      "\t\t\t\t\t\t\t\tPossession by Dec '21\n",
      "\t\t\t\t\t\t\t\n",
      "2 out of 8 floors\n",
      "New Property\n",
      "Unfurnished\n",
      "\n",
      "Golden Heights\n",
      "\n",
      "1 Covered\n",
      "2\n"
     ]
    }
   ],
   "source": [
    "for i in range(0,8):\n",
    "    print(sqft[i].text)"
   ]
  },
  {
   "cell_type": "code",
   "execution_count": 21,
   "id": "af92c886",
   "metadata": {},
   "outputs": [],
   "source": [
    "#location class data extracted\n",
    "loc = soup.findAll(attrs={'class':'m-srp-card__title'})"
   ]
  },
  {
   "cell_type": "code",
   "execution_count": 22,
   "id": "a06359bf",
   "metadata": {},
   "outputs": [
    {
     "data": {
      "text/plain": [
       "30"
      ]
     },
     "execution_count": 22,
     "metadata": {},
     "output_type": "execute_result"
    }
   ],
   "source": [
    "l=len(loc)\n",
    "l"
   ]
  },
  {
   "cell_type": "code",
   "execution_count": 23,
   "id": "60d7c369",
   "metadata": {},
   "outputs": [],
   "source": [
    "s=[None]*l"
   ]
  },
  {
   "cell_type": "code",
   "execution_count": 24,
   "id": "5327cf13",
   "metadata": {},
   "outputs": [],
   "source": [
    "for i in range(0,l):\n",
    "    s[i]=loc[i].text.replace(\"\\t\",\"\").replace(\"\\n\",\"\").replace(\" \",\"\")"
   ]
  },
  {
   "cell_type": "code",
   "execution_count": 25,
   "id": "b0c033bc",
   "metadata": {},
   "outputs": [
    {
     "data": {
      "text/plain": [
       "['2BHKFlatforSaleGoldenHeights,inSonarpur',\n",
       " '2BHKFlatforSaleOrbitLumiere,inBTRoad',\n",
       " '3BHKFlatforSaleAnanya,inRajpur',\n",
       " '2BHKFlatforSaleSuCasaRoyal,inNarendrapur',\n",
       " '2BHKFlatforSaleGoldenHeights,inSonarpur',\n",
       " '3BHKFlatforSaleFortuneHeights,inBarasat',\n",
       " '2BHKFlatforSaleEdenCityMaheshtala,inMaheshtala',\n",
       " '3BHKFlatforSaleEssense,inHowrah',\n",
       " '3BHKFlatforSaleTirupatiParadise,inRajpur',\n",
       " '2BHKFlatforSaleGoldenHeights,inSonarpur',\n",
       " '3BHKFlatforSaleGreenHeightsII,inRajarhat',\n",
       " '3BHKFlatforSaleMeenaEcoVista,inNewTown',\n",
       " '3BHKFlatforSaleMagnoliaMerlion,inRajarhat',\n",
       " '2BHKFlatforSaleChitrakutHeights,inNewTown',\n",
       " '3BHKFlatforSalePratham,inBTRoad',\n",
       " '2BHKFlatforSaleTirathDivine,inMadhyamGram',\n",
       " '2BHKFlatforSaleMetroHeights,inThakurPukur',\n",
       " '3BHKFlatforSaleAsconEra,inRajarhat',\n",
       " '2BHKFlatforSaleGemsCity,inJoka',\n",
       " '3BHKFlatforSaleFloraFountain,inTopsia',\n",
       " '3BHKFlatforSaleTheOrchidGrandeur,inRajarhat',\n",
       " '3BHKFlatforSaleOrchardAvaasa,inRajarhat',\n",
       " '3BHKFlatforSaleTwinTowers,inHowrah',\n",
       " '2BHKFlatforSaleinKamalgazi,Narendrapur',\n",
       " '2BHKFlatforSaleSiddhaGalaxiaPhase2,inRajarhat',\n",
       " '3BHKFlatforSaleinNaktala,Garia',\n",
       " '3BHKFlatforSaleDTCSouthernHeights,inIndianInstituteOfManagementCalcutta,Joka',\n",
       " '3BHKFlatforSaleinDumdumPark',\n",
       " '2BHKFlatforSaleSiddhaHappyVille,inRajarhat',\n",
       " '2BHKFlatforSaleSuncrestEstate,inDakshinSrirampur,Rajpur']"
      ]
     },
     "execution_count": 25,
     "metadata": {},
     "output_type": "execute_result"
    }
   ],
   "source": [
    "s"
   ]
  },
  {
   "cell_type": "code",
   "execution_count": 26,
   "id": "808693df",
   "metadata": {},
   "outputs": [],
   "source": [
    "head=[None]*l\n",
    "sep=[None]*l\n",
    "tail=[None]*l"
   ]
  },
  {
   "cell_type": "code",
   "execution_count": 27,
   "id": "99cfa52f",
   "metadata": {},
   "outputs": [],
   "source": [
    "for i in range(0,l):\n",
    "    head[i], sep[i], tail[i] = s[i].partition('in')"
   ]
  },
  {
   "cell_type": "code",
   "execution_count": 28,
   "id": "8eb44b2a",
   "metadata": {},
   "outputs": [
    {
     "data": {
      "text/plain": [
       "['Sonarpur',\n",
       " 'BTRoad',\n",
       " 'Rajpur',\n",
       " 'Narendrapur',\n",
       " 'Sonarpur',\n",
       " 'Barasat',\n",
       " 'Maheshtala',\n",
       " 'Howrah',\n",
       " 'Rajpur',\n",
       " 'Sonarpur',\n",
       " 'Rajarhat',\n",
       " 'NewTown',\n",
       " 'Rajarhat',\n",
       " 'NewTown',\n",
       " 'BTRoad',\n",
       " 'e,inMadhyamGram',\n",
       " 'ThakurPukur',\n",
       " 'Rajarhat',\n",
       " 'Joka',\n",
       " ',inTopsia',\n",
       " 'Rajarhat',\n",
       " 'Rajarhat',\n",
       " 'Towers,inHowrah',\n",
       " 'Kamalgazi,Narendrapur',\n",
       " 'Rajarhat',\n",
       " 'Naktala,Garia',\n",
       " 'IndianInstituteOfManagementCalcutta,Joka',\n",
       " 'DumdumPark',\n",
       " 'Rajarhat',\n",
       " 'DakshinSrirampur,Rajpur']"
      ]
     },
     "execution_count": 28,
     "metadata": {},
     "output_type": "execute_result"
    }
   ],
   "source": [
    "tail"
   ]
  },
  {
   "cell_type": "code",
   "execution_count": 29,
   "id": "dd1ce046",
   "metadata": {},
   "outputs": [
    {
     "data": {
      "text/plain": [
       "['Sonarpur',\n",
       " 'BTRoad',\n",
       " 'Rajpur',\n",
       " 'Narendrapur',\n",
       " 'Sonarpur',\n",
       " 'Barasat',\n",
       " 'Maheshtala',\n",
       " 'Howrah',\n",
       " 'Rajpur',\n",
       " 'Sonarpur',\n",
       " 'Rajarhat',\n",
       " 'NewTown',\n",
       " 'Rajarhat',\n",
       " 'NewTown',\n",
       " 'BTRoad',\n",
       " 'e,inMadhyamGram',\n",
       " 'ThakurPukur',\n",
       " 'Rajarhat',\n",
       " 'Joka',\n",
       " ',inTopsia',\n",
       " 'Rajarhat',\n",
       " 'Rajarhat',\n",
       " 'Towers,inHowrah',\n",
       " 'Kamalgazi,Narendrapur',\n",
       " 'Rajarhat',\n",
       " 'Naktala,Garia',\n",
       " 'IndianInstituteOfManagementCalcutta,Joka',\n",
       " 'DumdumPark',\n",
       " 'Rajarhat',\n",
       " 'DakshinSrirampur,Rajpur']"
      ]
     },
     "execution_count": 29,
     "metadata": {},
     "output_type": "execute_result"
    }
   ],
   "source": [
    "loc_new=tail.copy()\n",
    "loc_new"
   ]
  },
  {
   "cell_type": "code",
   "execution_count": 30,
   "id": "768734c8",
   "metadata": {},
   "outputs": [],
   "source": [
    "#area(sqft) class data extracted\n",
    "sumy = soup.findAll(attrs={'class':'m-srp-card__summary__info'})"
   ]
  },
  {
   "cell_type": "code",
   "execution_count": 31,
   "id": "62995296",
   "metadata": {},
   "outputs": [
    {
     "data": {
      "text/plain": [
       "231"
      ]
     },
     "execution_count": 31,
     "metadata": {},
     "output_type": "execute_result"
    }
   ],
   "source": [
    "l=len(sumy)\n",
    "l"
   ]
  },
  {
   "cell_type": "code",
   "execution_count": 32,
   "id": "272a9475",
   "metadata": {},
   "outputs": [],
   "source": [
    "d=[None]*l"
   ]
  },
  {
   "cell_type": "code",
   "execution_count": 33,
   "id": "b7013be0",
   "metadata": {},
   "outputs": [],
   "source": [
    "for i in range(0,l):\n",
    "    d[i]=sumy[i].text.replace(\"\\t\",\"\").replace(\"\\n\",\"\").replace(\" \",\"\")"
   ]
  },
  {
   "cell_type": "code",
   "execution_count": 34,
   "id": "b6ee4b68",
   "metadata": {},
   "outputs": [],
   "source": [
    "head,sep,tail=d[0].partition('\\xa0')"
   ]
  },
  {
   "cell_type": "code",
   "execution_count": 35,
   "id": "d4e3849e",
   "metadata": {},
   "outputs": [
    {
     "data": {
      "text/plain": [
       "'823'"
      ]
     },
     "execution_count": 35,
     "metadata": {},
     "output_type": "execute_result"
    }
   ],
   "source": [
    "head"
   ]
  },
  {
   "cell_type": "code",
   "execution_count": 36,
   "id": "5699bbb5",
   "metadata": {},
   "outputs": [
    {
     "data": {
      "text/plain": [
       "'sqft'"
      ]
     },
     "execution_count": 36,
     "metadata": {},
     "output_type": "execute_result"
    }
   ],
   "source": [
    "tail"
   ]
  },
  {
   "cell_type": "code",
   "execution_count": 37,
   "id": "ba16b2f1",
   "metadata": {},
   "outputs": [
    {
     "data": {
      "text/plain": [
       "231"
      ]
     },
     "execution_count": 37,
     "metadata": {},
     "output_type": "execute_result"
    }
   ],
   "source": [
    "l=len(d)\n",
    "l"
   ]
  },
  {
   "cell_type": "code",
   "execution_count": 38,
   "id": "a987c105",
   "metadata": {},
   "outputs": [],
   "source": [
    "head=[None]*l\n",
    "sep=[None]*l\n",
    "tail=[None]*l\n",
    "area=[None]*l"
   ]
  },
  {
   "cell_type": "code",
   "execution_count": 39,
   "id": "b7086e4c",
   "metadata": {},
   "outputs": [],
   "source": [
    "for i in range(0,l):\n",
    "    head[i], sep[i], tail[i] = d[i].partition('\\xa0')\n",
    "    if tail[i] == \"sqft\":\n",
    "         area[i]=head[i]"
   ]
  },
  {
   "cell_type": "code",
   "execution_count": 40,
   "id": "4dc2a858",
   "metadata": {},
   "outputs": [],
   "source": [
    "area_new = []\n",
    "for val in area:\n",
    "    if val != None :\n",
    "        area_new.append(val)"
   ]
  },
  {
   "cell_type": "code",
   "execution_count": 41,
   "id": "e46f9549",
   "metadata": {},
   "outputs": [
    {
     "data": {
      "text/plain": [
       "['823',\n",
       " '627',\n",
       " '1050',\n",
       " '1011',\n",
       " '957',\n",
       " '1064',\n",
       " '526',\n",
       " '1326',\n",
       " '1188',\n",
       " '863',\n",
       " '834',\n",
       " '1420',\n",
       " '1317',\n",
       " '913',\n",
       " '1670',\n",
       " '880',\n",
       " '799',\n",
       " '1180',\n",
       " '647',\n",
       " '1126',\n",
       " '1970',\n",
       " '1337',\n",
       " '1300',\n",
       " '955',\n",
       " '670',\n",
       " '806',\n",
       " '1370',\n",
       " '911',\n",
       " '1105',\n",
       " '725']"
      ]
     },
     "execution_count": 41,
     "metadata": {},
     "output_type": "execute_result"
    }
   ],
   "source": [
    "area_new"
   ]
  },
  {
   "cell_type": "code",
   "execution_count": 42,
   "id": "bd46adf5",
   "metadata": {},
   "outputs": [],
   "source": [
    "#creating dataframe using the list\n",
    "data=pd.DataFrame(list(zip(price_new,size_new,loc_new,area_new)),columns=['price','bhk','location','area(sqft)'])"
   ]
  },
  {
   "cell_type": "code",
   "execution_count": 43,
   "id": "fa8d3d10",
   "metadata": {},
   "outputs": [
    {
     "data": {
      "text/html": [
       "<div>\n",
       "<style scoped>\n",
       "    .dataframe tbody tr th:only-of-type {\n",
       "        vertical-align: middle;\n",
       "    }\n",
       "\n",
       "    .dataframe tbody tr th {\n",
       "        vertical-align: top;\n",
       "    }\n",
       "\n",
       "    .dataframe thead th {\n",
       "        text-align: right;\n",
       "    }\n",
       "</style>\n",
       "<table border=\"1\" class=\"dataframe\">\n",
       "  <thead>\n",
       "    <tr style=\"text-align: right;\">\n",
       "      <th></th>\n",
       "      <th>price</th>\n",
       "      <th>bhk</th>\n",
       "      <th>location</th>\n",
       "      <th>area(sqft)</th>\n",
       "    </tr>\n",
       "  </thead>\n",
       "  <tbody>\n",
       "    <tr>\n",
       "      <th>0</th>\n",
       "      <td>25.5 Lac</td>\n",
       "      <td>2BHKFlat</td>\n",
       "      <td>Sonarpur</td>\n",
       "      <td>823</td>\n",
       "    </tr>\n",
       "    <tr>\n",
       "      <th>1</th>\n",
       "      <td>49.5 Lac</td>\n",
       "      <td>2BHKFlat</td>\n",
       "      <td>BTRoad</td>\n",
       "      <td>627</td>\n",
       "    </tr>\n",
       "    <tr>\n",
       "      <th>2</th>\n",
       "      <td>29 Lac</td>\n",
       "      <td>3BHKFlat</td>\n",
       "      <td>Rajpur</td>\n",
       "      <td>1050</td>\n",
       "    </tr>\n",
       "    <tr>\n",
       "      <th>3</th>\n",
       "      <td>41.5 Lac</td>\n",
       "      <td>2BHKFlat</td>\n",
       "      <td>Narendrapur</td>\n",
       "      <td>1011</td>\n",
       "    </tr>\n",
       "    <tr>\n",
       "      <th>4</th>\n",
       "      <td>29.7 Lac</td>\n",
       "      <td>2BHKFlat</td>\n",
       "      <td>Sonarpur</td>\n",
       "      <td>957</td>\n",
       "    </tr>\n",
       "    <tr>\n",
       "      <th>5</th>\n",
       "      <td>36.2 Lac</td>\n",
       "      <td>3BHKFlat</td>\n",
       "      <td>Barasat</td>\n",
       "      <td>1064</td>\n",
       "    </tr>\n",
       "    <tr>\n",
       "      <th>6</th>\n",
       "      <td>23.9 Lac</td>\n",
       "      <td>2BHKFlat</td>\n",
       "      <td>Maheshtala</td>\n",
       "      <td>526</td>\n",
       "    </tr>\n",
       "    <tr>\n",
       "      <th>7</th>\n",
       "      <td>69.7 Lac</td>\n",
       "      <td>3BHKFlat</td>\n",
       "      <td>Howrah</td>\n",
       "      <td>1326</td>\n",
       "    </tr>\n",
       "    <tr>\n",
       "      <th>8</th>\n",
       "      <td>40.4 Lac</td>\n",
       "      <td>3BHKFlat</td>\n",
       "      <td>Rajpur</td>\n",
       "      <td>1188</td>\n",
       "    </tr>\n",
       "    <tr>\n",
       "      <th>9</th>\n",
       "      <td>26.8 Lac</td>\n",
       "      <td>2BHKFlat</td>\n",
       "      <td>Sonarpur</td>\n",
       "      <td>863</td>\n",
       "    </tr>\n",
       "    <tr>\n",
       "      <th>10</th>\n",
       "      <td>63 Lac</td>\n",
       "      <td>3BHKFlat</td>\n",
       "      <td>Rajarhat</td>\n",
       "      <td>834</td>\n",
       "    </tr>\n",
       "    <tr>\n",
       "      <th>11</th>\n",
       "      <td>71 Lac</td>\n",
       "      <td>3BHKFlat</td>\n",
       "      <td>NewTown</td>\n",
       "      <td>1420</td>\n",
       "    </tr>\n",
       "    <tr>\n",
       "      <th>12</th>\n",
       "      <td>52.2 Lac</td>\n",
       "      <td>3BHKFlat</td>\n",
       "      <td>Rajarhat</td>\n",
       "      <td>1317</td>\n",
       "    </tr>\n",
       "    <tr>\n",
       "      <th>13</th>\n",
       "      <td>39.8 Lac</td>\n",
       "      <td>2BHKFlat</td>\n",
       "      <td>NewTown</td>\n",
       "      <td>913</td>\n",
       "    </tr>\n",
       "    <tr>\n",
       "      <th>14</th>\n",
       "      <td>72.6 Lac</td>\n",
       "      <td>3BHKFlat</td>\n",
       "      <td>BTRoad</td>\n",
       "      <td>1670</td>\n",
       "    </tr>\n",
       "    <tr>\n",
       "      <th>15</th>\n",
       "      <td>29 Lac</td>\n",
       "      <td>2BHKFlat</td>\n",
       "      <td>e,inMadhyamGram</td>\n",
       "      <td>880</td>\n",
       "    </tr>\n",
       "    <tr>\n",
       "      <th>16</th>\n",
       "      <td>26.4 Lac</td>\n",
       "      <td>2BHKFlat</td>\n",
       "      <td>ThakurPukur</td>\n",
       "      <td>799</td>\n",
       "    </tr>\n",
       "    <tr>\n",
       "      <th>17</th>\n",
       "      <td>61.3 Lac</td>\n",
       "      <td>3BHKFlat</td>\n",
       "      <td>Rajarhat</td>\n",
       "      <td>1180</td>\n",
       "    </tr>\n",
       "    <tr>\n",
       "      <th>18</th>\n",
       "      <td>21.4 Lac</td>\n",
       "      <td>2BHKFlat</td>\n",
       "      <td>Joka</td>\n",
       "      <td>647</td>\n",
       "    </tr>\n",
       "    <tr>\n",
       "      <th>19</th>\n",
       "      <td>1.07 Cr</td>\n",
       "      <td>3BHKFlat</td>\n",
       "      <td>,inTopsia</td>\n",
       "      <td>1126</td>\n",
       "    </tr>\n",
       "    <tr>\n",
       "      <th>20</th>\n",
       "      <td>70 Lac</td>\n",
       "      <td>3BHKFlat</td>\n",
       "      <td>Rajarhat</td>\n",
       "      <td>1970</td>\n",
       "    </tr>\n",
       "    <tr>\n",
       "      <th>21</th>\n",
       "      <td>64.2 Lac</td>\n",
       "      <td>3BHKFlat</td>\n",
       "      <td>Rajarhat</td>\n",
       "      <td>1337</td>\n",
       "    </tr>\n",
       "    <tr>\n",
       "      <th>22</th>\n",
       "      <td>78 Lac</td>\n",
       "      <td>3BHKFlat</td>\n",
       "      <td>Towers,inHowrah</td>\n",
       "      <td>1300</td>\n",
       "    </tr>\n",
       "    <tr>\n",
       "      <th>23</th>\n",
       "      <td>27.7 Lac</td>\n",
       "      <td>2BHKFlat</td>\n",
       "      <td>Kamalgazi,Narendrapur</td>\n",
       "      <td>955</td>\n",
       "    </tr>\n",
       "    <tr>\n",
       "      <th>24</th>\n",
       "      <td>62 Lac</td>\n",
       "      <td>2BHKFlat</td>\n",
       "      <td>Rajarhat</td>\n",
       "      <td>670</td>\n",
       "    </tr>\n",
       "    <tr>\n",
       "      <th>25</th>\n",
       "      <td>48 Lac</td>\n",
       "      <td>3BHKFlat</td>\n",
       "      <td>Naktala,Garia</td>\n",
       "      <td>806</td>\n",
       "    </tr>\n",
       "    <tr>\n",
       "      <th>26</th>\n",
       "      <td>54.8 Lac</td>\n",
       "      <td>3BHKFlat</td>\n",
       "      <td>IndianInstituteOfManagementCalcutta,Joka</td>\n",
       "      <td>1370</td>\n",
       "    </tr>\n",
       "    <tr>\n",
       "      <th>27</th>\n",
       "      <td>56.9 Lac</td>\n",
       "      <td>3BHKFlat</td>\n",
       "      <td>DumdumPark</td>\n",
       "      <td>911</td>\n",
       "    </tr>\n",
       "    <tr>\n",
       "      <th>28</th>\n",
       "      <td>49.7 Lac</td>\n",
       "      <td>2BHKFlat</td>\n",
       "      <td>Rajarhat</td>\n",
       "      <td>1105</td>\n",
       "    </tr>\n",
       "    <tr>\n",
       "      <th>29</th>\n",
       "      <td>41 Lac</td>\n",
       "      <td>2BHKFlat</td>\n",
       "      <td>DakshinSrirampur,Rajpur</td>\n",
       "      <td>725</td>\n",
       "    </tr>\n",
       "  </tbody>\n",
       "</table>\n",
       "</div>"
      ],
      "text/plain": [
       "       price       bhk                                  location area(sqft)\n",
       "0   25.5 Lac  2BHKFlat                                  Sonarpur        823\n",
       "1   49.5 Lac  2BHKFlat                                    BTRoad        627\n",
       "2     29 Lac  3BHKFlat                                    Rajpur       1050\n",
       "3   41.5 Lac  2BHKFlat                               Narendrapur       1011\n",
       "4   29.7 Lac  2BHKFlat                                  Sonarpur        957\n",
       "5   36.2 Lac  3BHKFlat                                   Barasat       1064\n",
       "6   23.9 Lac  2BHKFlat                                Maheshtala        526\n",
       "7   69.7 Lac  3BHKFlat                                    Howrah       1326\n",
       "8   40.4 Lac  3BHKFlat                                    Rajpur       1188\n",
       "9   26.8 Lac  2BHKFlat                                  Sonarpur        863\n",
       "10    63 Lac  3BHKFlat                                  Rajarhat        834\n",
       "11    71 Lac  3BHKFlat                                   NewTown       1420\n",
       "12  52.2 Lac  3BHKFlat                                  Rajarhat       1317\n",
       "13  39.8 Lac  2BHKFlat                                   NewTown        913\n",
       "14  72.6 Lac  3BHKFlat                                    BTRoad       1670\n",
       "15    29 Lac  2BHKFlat                           e,inMadhyamGram        880\n",
       "16  26.4 Lac  2BHKFlat                               ThakurPukur        799\n",
       "17  61.3 Lac  3BHKFlat                                  Rajarhat       1180\n",
       "18  21.4 Lac  2BHKFlat                                      Joka        647\n",
       "19   1.07 Cr  3BHKFlat                                 ,inTopsia       1126\n",
       "20    70 Lac  3BHKFlat                                  Rajarhat       1970\n",
       "21  64.2 Lac  3BHKFlat                                  Rajarhat       1337\n",
       "22    78 Lac  3BHKFlat                           Towers,inHowrah       1300\n",
       "23  27.7 Lac  2BHKFlat                     Kamalgazi,Narendrapur        955\n",
       "24    62 Lac  2BHKFlat                                  Rajarhat        670\n",
       "25    48 Lac  3BHKFlat                             Naktala,Garia        806\n",
       "26  54.8 Lac  3BHKFlat  IndianInstituteOfManagementCalcutta,Joka       1370\n",
       "27  56.9 Lac  3BHKFlat                                DumdumPark        911\n",
       "28  49.7 Lac  2BHKFlat                                  Rajarhat       1105\n",
       "29    41 Lac  2BHKFlat                   DakshinSrirampur,Rajpur        725"
      ]
     },
     "execution_count": 43,
     "metadata": {},
     "output_type": "execute_result"
    }
   ],
   "source": [
    "data"
   ]
  },
  {
   "cell_type": "code",
   "execution_count": 44,
   "id": "248f9a1a",
   "metadata": {},
   "outputs": [],
   "source": [
    "#exporting the data to csv\n",
    "data.to_csv('output.csv')"
   ]
  },
  {
   "cell_type": "code",
   "execution_count": null,
   "id": "9902c30c",
   "metadata": {},
   "outputs": [],
   "source": []
  }
 ],
 "metadata": {
  "kernelspec": {
   "display_name": "Python 3",
   "language": "python",
   "name": "python3"
  },
  "language_info": {
   "codemirror_mode": {
    "name": "ipython",
    "version": 3
   },
   "file_extension": ".py",
   "mimetype": "text/x-python",
   "name": "python",
   "nbconvert_exporter": "python",
   "pygments_lexer": "ipython3",
   "version": "3.8.8"
  }
 },
 "nbformat": 4,
 "nbformat_minor": 5
}
